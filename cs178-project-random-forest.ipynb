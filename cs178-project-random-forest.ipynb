{
 "cells": [
  {
   "cell_type": "markdown",
   "id": "d05c3e04",
   "metadata": {},
   "source": [
    "<font size=\"5\">**CS 178 Final Project**</font>"
   ]
  },
  {
   "cell_type": "markdown",
   "id": "5395b3ad",
   "metadata": {},
   "source": [
    "*Import Statements*"
   ]
  },
  {
   "cell_type": "code",
   "execution_count": 76,
   "id": "0fef611c",
   "metadata": {},
   "outputs": [],
   "source": [
    "import requests           \n",
    "from io import StringIO\n",
    "\n",
    "from sklearn.preprocessing import OrdinalEncoder, LabelEncoder\n",
    "from sklearn.ensemble import RandomForestClassifier, IsolationForest\n",
    "from sklearn.metrics import zero_one_loss as J01\n",
    "import numpy as np\n",
    "feature_list = [\"age\", \"workclass\", \"fnlwgt\", \"education\", \"education-num\", 'marital-status', 'occupation', 'occupation', 'relationship', 'race', 'sex', 'capital-gain', 'capital-loss', 'hours-per=week', 'native-country']\n"
   ]
  },
  {
   "cell_type": "code",
   "execution_count": 170,
   "id": "2000da6e",
   "metadata": {},
   "outputs": [],
   "source": [
    "# getting training data\n",
    "url = 'https://archive.ics.uci.edu/ml/machine-learning-databases/adult/adult.data'\n",
    "\n",
    "with requests.get(url) as link:\n",
    "    datafile = StringIO(link.text)\n",
    "    \n",
    "    adults_X = []\n",
    "    adults_y = []\n",
    "    for line in datafile:\n",
    "        split_line = line[:-1].split(', ')\n",
    "        if len(split_line) == 15:\n",
    "            adults_X.append([x if x != '?' else np.nan for x in split_line[:-1]])\n",
    "            adults_y.append([split_line[-1]])\n",
    "\n",
    "    # Since not all of the inputs are numbers (there is categorical data), we need to use\n",
    "    # an ordinal encoder which will translate these into integers\n",
    "    ord_enc = OrdinalEncoder()\n",
    "    # we are going to use the encoded_missing_value parameter to encode missing values as well,\n",
    "    # this sets any missing values (?) to -1\n",
    "    adults_X = ord_enc.set_params(encoded_missing_value=-1).fit_transform(adults_X)\n",
    "    \n",
    "    label_enc = LabelEncoder()\n",
    "    adults_y = label_enc.fit_transform(adults_y)"
   ]
  },
  {
   "cell_type": "code",
   "execution_count": 163,
   "id": "1fa893ba",
   "metadata": {},
   "outputs": [],
   "source": [
    "# getting test data\n",
    "test_url = 'https://archive.ics.uci.edu/ml/machine-learning-databases/adult/adult.test'\n",
    "\n",
    "with requests.get(test_url) as link:\n",
    "    datafile = StringIO(link.text)\n",
    "    \n",
    "    adults_test_X = []\n",
    "    adults_test_y = []\n",
    "    for line in datafile:\n",
    "        split_line = line[:-1].split(', ')\n",
    "        if len(split_line) == 15:\n",
    "            adults_test_X.append([x if x != '?' else np.nan for x in split_line[:-1]])\n",
    "            adults_test_y.append([split_line[-1]])\n",
    "\n",
    "    # Since not all of the inputs are numbers (there is categorical data), we need to use\n",
    "    # an ordinal encoder which will translate these into integers\n",
    "    ord_enc = OrdinalEncoder()\n",
    "    # we are going to use the encoded_missing_value parameter to encode missing values as well,\n",
    "    # this sets any missing values (?) to -1\n",
    "    adults_test_X = ord_enc.set_params(encoded_missing_value=-1).fit_transform(adults_test_X)\n",
    "    \n",
    "    label_enc = LabelEncoder()\n",
    "    adults_test_y = label_enc.fit_transform(adults_test_y)"
   ]
  },
  {
   "cell_type": "code",
   "execution_count": 171,
   "id": "d3136683",
   "metadata": {},
   "outputs": [],
   "source": [
    "adults_X = np.asarray(adults_X)\n",
    "adults_y = np.asarray(adults_y)\n",
    "adults_test_X = np.asarray(adults_test_X)\n",
    "adults_test_y = np.asarray(adults_test_y)"
   ]
  },
  {
   "cell_type": "code",
   "execution_count": 177,
   "id": "1f285a22",
   "metadata": {},
   "outputs": [
    {
     "name": "stdout",
     "output_type": "stream",
     "text": [
      "Training Error: 6.142317496393712e-05\n",
      "Testing Error: 0.1550887537620539\n"
     ]
    }
   ],
   "source": [
    "# without adjusting any default parameters of the random forest classifier\n",
    "# 100 trees, gini, max_depth = None, min_samples_split =2, min_samples_leaf = 1, bootstrap=true, max_features=sqrt\n",
    "RFC = RandomForestClassifier(random_state=1234).fit(adults_X, adults_y)\n",
    "adults_y_hat = RFC.predict(adults_X)\n",
    "adults_test_y_hat = RFC.predict (adults_test_X)\n",
    "\n",
    "print(f\"Training Error: {J01(adults_y_hat, adults_y)}\")\n",
    "print(f\"Testing Error: {J01(adults_test_y_hat, adults_test_y)}\")\n",
    "\n",
    "# a lot of overfitting going on :'("
   ]
  },
  {
   "cell_type": "code",
   "execution_count": 110,
   "id": "29531384",
   "metadata": {},
   "outputs": [
    {
     "name": "stdout",
     "output_type": "stream",
     "text": [
      "Training Error: 0.00012284634992787424\n",
      "Testing Error: 0.15269332350592713\n"
     ]
    }
   ],
   "source": [
    "# change to entropy\n",
    "RFC = RandomForestClassifier(random_state=1234, criterion=\"entropy\").fit(adults_X, adults_y)\n",
    "adults_y_hat = RFC.predict(adults_X)\n",
    "adults_test_y_hat = RFC.predict (adults_test_X)\n",
    "\n",
    "print(f\"Training Error: {J01(adults_y_hat, adults_y)}\")\n",
    "print(f\"Testing Error: {J01(adults_test_y_hat, adults_test_y)}\")\n",
    "\n",
    "#slightly better"
   ]
  },
  {
   "cell_type": "code",
   "execution_count": 178,
   "id": "79d63b06",
   "metadata": {},
   "outputs": [
    {
     "name": "stdout",
     "output_type": "stream",
     "text": [
      "Training Error: 3.732736095563016e-05\n",
      "Testing Error: 0.15742276272956202\n"
     ]
    }
   ],
   "source": [
    "RFC = RandomForestClassifier(random_state=1234, criterion=\"entropy\").fit(reduced_adults_X, reduced_adults_y)\n",
    "adults_y_hat = RFC.predict(adults_X)\n",
    "adults_test_y_hat = RFC.predict (adults_test_X)\n",
    "\n",
    "print(f\"Training Error: {J01(adults_y_hat, reduced_adults_y)}\")\n",
    "print(f\"Testing Error: {J01(adults_test_y_hat, adults_test_y)}\")"
   ]
  },
  {
   "cell_type": "code",
   "execution_count": 116,
   "id": "628d222b",
   "metadata": {},
   "outputs": [
    {
     "name": "stdout",
     "output_type": "stream",
     "text": [
      "Min Samples split:   5, Min Sample Leaf:  2, Training Error: 0.06311, Test Error: 0.1468\n",
      "Min Samples split:   5, Min Sample Leaf:  3, Training Error: 0.08412, Test Error: 0.1486\n",
      "Min Samples split:  10, Min Sample Leaf:  2, Training Error: 0.0801, Test Error: 0.1473\n",
      "Min Samples split:  10, Min Sample Leaf:  3, Training Error: 0.0918, Test Error: 0.1479\n",
      "Min Samples split:  10, Min Sample Leaf:  5, Training Error: 0.1068, Test Error: 0.1472\n",
      "Min Samples split:  25, Min Sample Leaf:  2, Training Error: 0.1006, Test Error: 0.1462\n",
      "Min Samples split:  25, Min Sample Leaf:  3, Training Error: 0.1058, Test Error: 0.1477\n",
      "Min Samples split:  25, Min Sample Leaf:  5, Training Error: 0.1159, Test Error: 0.1469\n",
      "Min Samples split:  25, Min Sample Leaf: 10, Training Error: 0.1261, Test Error: 0.1473\n",
      "Min Samples split:  50, Min Sample Leaf:  2, Training Error: 0.1141, Test Error: 0.1463\n",
      "Min Samples split:  50, Min Sample Leaf:  3, Training Error: 0.1185, Test Error: 0.1469\n",
      "Min Samples split:  50, Min Sample Leaf:  5, Training Error: 0.1218, Test Error: 0.147\n",
      "Min Samples split:  50, Min Sample Leaf: 10, Training Error: 0.1301, Test Error: 0.1478\n",
      "Min Samples split: 100, Min Sample Leaf:  2, Training Error: 0.1278, Test Error: 0.1478\n",
      "Min Samples split: 100, Min Sample Leaf:  3, Training Error: 0.1283, Test Error: 0.1479\n",
      "Min Samples split: 100, Min Sample Leaf:  5, Training Error: 0.1326, Test Error: 0.1487\n",
      "Min Samples split: 100, Min Sample Leaf: 10, Training Error: 0.1359, Test Error: 0.1483\n"
     ]
    }
   ],
   "source": [
    "for split, leaf, training_error, test_error in table:\n",
    "    print(f\"Min Samples split: {split:3}, Min Sample Leaf: {leaf:2}, Training Error: {training_error:.4}, Test Error: {test_error:.4}\")"
   ]
  },
  {
   "cell_type": "code",
   "execution_count": 55,
   "id": "b4e36fc5",
   "metadata": {},
   "outputs": [],
   "source": [
    "# min_sample_split: 25 with min_sample_leaf 2 seems to have the lowest average testing error"
   ]
  },
  {
   "cell_type": "code",
   "execution_count": 139,
   "id": "f8c75467",
   "metadata": {},
   "outputs": [
    {
     "data": {
      "text/plain": [
       "Text(0.5, 0, 'Max Depth')"
      ]
     },
     "execution_count": 139,
     "metadata": {},
     "output_type": "execute_result"
    },
    {
     "data": {
      "image/png": "[encoded data removed]",
      "text/plain": [
       "<Figure size 640x480 with 1 Axes>"
      ]
     },
     "metadata": {},
     "output_type": "display_data"
    }
   ],
   "source": [
    "# try adjusting max_depth\n",
    "\n",
    "training_error = []\n",
    "test_error = []\n",
    "\n",
    "for i in range(5,25):\n",
    "    RFC = RandomForestClassifier(criterion=\"entropy\",random_state=1234,max_depth=i,min_samples_split=25, min_samples_leaf=2).fit(adults_X, adults_y)\n",
    "\n",
    "    adults_y_hat = RFC.predict(adults_X)\n",
    "    adults_test_y_hat = RFC.predict (adults_test_X)\n",
    "    training_error.append(J01(adults_y_hat, adults_y))\n",
    "    test_error.append(J01(adults_test_y_hat, adults_test_y))\n",
    "    \n",
    "plt.plot([i for i in range(5,25)], training_error, color='blue')\n",
    "plt.plot([i for i in range(5,25)], test_error, color=\"red\")\n",
    "plt.legend([\"Training Error\", \"Test Error\"], loc='lower left')\n",
    "plt.xlabel(\"Max Depth\")\n",
    "\n"
   ]
  },
  {
   "cell_type": "code",
   "execution_count": 141,
   "id": "bcfb261d",
   "metadata": {},
   "outputs": [
    {
     "name": "stdout",
     "output_type": "stream",
     "text": [
      "Depth:  5, error: 0.1497\n",
      "Depth:  6, error: 0.1471\n",
      "Depth:  7, error: 0.1464\n",
      "Depth:  8, error: 0.1467\n",
      "Depth:  9, error: 0.1473\n",
      "Depth: 10, error: 0.1457\n",
      "Depth: 11, error: 0.1481\n",
      "Depth: 12, error: 0.1487\n",
      "Depth: 13, error: 0.1488\n",
      "Depth: 14, error: 0.1505\n",
      "Depth: 15, error: 0.1494\n",
      "Depth: 16, error: 0.1499\n",
      "Depth: 17, error: 0.1509\n"
     ]
    }
   ],
   "source": [
    "for depth, error in zip([i for i in range(5,25)], test_error):\n",
    "    print(f\"Depth: {depth:2}, error: {error:.4}\")\n",
    "    # Test error seemed to be around the same after depth 10 "
   ]
  },
  {
   "cell_type": "code",
   "execution_count": 142,
   "id": "70eeebcd",
   "metadata": {},
   "outputs": [
    {
     "data": {
      "text/plain": [
       "Text(0.5, 0, 'Max Features')"
      ]
     },
     "execution_count": 142,
     "metadata": {},
     "output_type": "execute_result"
    },
    {
     "data": {
      "image/png": "[encoded data removed]",
      "text/plain": [
       "<Figure size 640x480 with 1 Axes>"
      ]
     },
     "metadata": {},
     "output_type": "display_data"
    }
   ],
   "source": [
    "# change the number of features being used to consider where to split, default is square root of number of features\n",
    "\n",
    "training_error = []\n",
    "test_error = []\n",
    "\n",
    "for i in range(1,15):\n",
    "    RFC = RandomForestClassifier(random_state=1234, criterion=\"entropy\", max_depth=10,max_features=i,min_samples_split=25,min_samples_leaf=2).fit(adults_X, adults_y)\n",
    "\n",
    "    adults_y_hat = RFC.predict(adults_X)\n",
    "    adults_test_y_hat = RFC.predict (adults_test_X)\n",
    "    training_error.append(J01(adults_y_hat, adults_y))\n",
    "    test_error.append(J01(adults_test_y_hat, adults_test_y))\n",
    "    \n",
    "plt.plot([i for i in range(1,15)], training_error, color='blue')\n",
    "plt.plot([i for i in range(1,15)], test_error, color=\"red\")\n",
    "plt.legend([\"Training Error\", \"Test Error\"], loc='lower left')\n",
    "plt.xlabel(\"Max Features\")\n"
   ]
  },
  {
   "cell_type": "code",
   "execution_count": 143,
   "id": "dc771bc6",
   "metadata": {},
   "outputs": [
    {
     "name": "stdout",
     "output_type": "stream",
     "text": [
      "Max Feature:  1, Test Error: 0.1588\n",
      "Max Feature:  2, Test Error: 0.1502\n",
      "Max Feature:  3, Test Error: 0.1492\n",
      "Max Feature:  4, Test Error: 0.149\n",
      "Max Feature:  5, Test Error: 0.1491\n",
      "Max Feature:  6, Test Error: 0.1478\n",
      "Max Feature:  7, Test Error: 0.1509\n",
      "Max Feature:  8, Test Error: 0.1515\n",
      "Max Feature:  9, Test Error: 0.1526\n",
      "Max Feature: 10, Test Error: 0.1524\n",
      "Max Feature: 11, Test Error: 0.1524\n",
      "Max Feature: 12, Test Error: 0.1515\n",
      "Max Feature: 13, Test Error: 0.1517\n",
      "Max Feature: 14, Test Error: 0.1521\n"
     ]
    }
   ],
   "source": [
    "for max_feature, error in zip([i for i in range(1,15)], test_error):\n",
    "    print(f\"Max Feature: {max_feature:2}, Test Error: {error:.4}\")\n",
    "    # not any better"
   ]
  },
  {
   "cell_type": "markdown",
   "id": "7743e580",
   "metadata": {},
   "source": [
    "## Feature Reduction"
   ]
  },
  {
   "cell_type": "code",
   "execution_count": 179,
   "id": "df7228b4",
   "metadata": {},
   "outputs": [
    {
     "name": "stdout",
     "output_type": "stream",
     "text": [
      "occupation          : 0.26\n",
      "education-num       : 0.14\n",
      "sex                 : 0.13\n",
      "age                 : 0.11\n",
      "fnlwgt              : 0.09\n",
      "capital-loss        : 0.07\n",
      "marital-status      : 0.06\n",
      "occupation          : 0.04\n",
      "capital-gain        : 0.04\n",
      "workclass           : 0.02\n",
      "education           : 0.01\n",
      "relationship        : 0.01\n",
      "hours-per=week      : 0.01\n",
      "race                : 0.0\n"
     ]
    }
   ],
   "source": [
    "#source code: https://towardsdatascience.com/improving-random-forest-in-python-part-1-893916666cd\n",
    "RFC = RandomForestClassifier(random_state=1234, criterion=\"entropy\", max_depth=19,max_features=12,min_samples_split=25,min_samples_leaf=2).fit(adults_X, adults_y)\n",
    "\n",
    "importances = list(RFC.feature_importances_)\n",
    "\n",
    "feature_importances = [(feature, round(importance, 2)) for feature, importance in zip(feature_list, importances)]\n",
    "\n",
    "feature_importances = sorted(feature_importances, key = lambda x: -x[1])\n",
    "\n",
    "for feature, importance in feature_importances:\n",
    "    print(f\"{feature:20}: {importance}\")"
   ]
  },
  {
   "cell_type": "code",
   "execution_count": 180,
   "id": "57d6fcb9",
   "metadata": {},
   "outputs": [],
   "source": [
    "# chose to use first 9 features because feature importances of those add up to 95%\n",
    "important_feature_names = [feature[0] for feature in feature_importances[0:9]]\n",
    "\n",
    "important_indices = [feature_list.index(feature) for feature in important_feature_names]\n",
    "reduced_adults_X = adults_X[:, important_indices]\n",
    "reduced_adults_test_X = adults_test_X[:, important_indices]"
   ]
  },
  {
   "cell_type": "code",
   "execution_count": 190,
   "id": "59cc7200",
   "metadata": {},
   "outputs": [
    {
     "name": "stdout",
     "output_type": "stream",
     "text": [
      "Training Error: 0.00021498111237372441\n",
      "Testing Error: 0.1603709845832566\n"
     ]
    }
   ],
   "source": [
    "RFC = RandomForestClassifier(random_state=1234, criterion=\"entropy\")\n",
    "RFC.fit(reduced_adults_X, adults_y)\n",
    "adults_y_hat = RFC.predict(reduced_adults_X)\n",
    "adults_test_y_hat = RFC.predict (reduced_adults_test_X)\n",
    "print(f\"Training Error: {J01(adults_y_hat, adults_y)}\")\n",
    "print(f\"Testing Error: {J01(adults_test_y_hat, adults_test_y)}\")"
   ]
  },
  {
   "cell_type": "code",
   "execution_count": 191,
   "id": "4056b471",
   "metadata": {},
   "outputs": [
    {
     "name": "stdout",
     "output_type": "stream",
     "text": [
      "Min Samples split:   5, Min Sample Leaf:  2, Training Error: 0.05264, Test Error: 0.1539\n",
      "Min Samples split:   5, Min Sample Leaf:  3, Training Error: 0.07552, Test Error: 0.1504\n",
      "Min Samples split:  10, Min Sample Leaf:  2, Training Error: 0.07417, Test Error: 0.1499\n",
      "Min Samples split:  10, Min Sample Leaf:  3, Training Error: 0.08581, Test Error: 0.1492\n",
      "Min Samples split:  10, Min Sample Leaf:  5, Training Error: 0.09941, Test Error: 0.1486\n",
      "Min Samples split:  25, Min Sample Leaf:  2, Training Error: 0.1012, Test Error: 0.148\n",
      "Min Samples split:  25, Min Sample Leaf:  3, Training Error: 0.106, Test Error: 0.1474\n",
      "Min Samples split:  25, Min Sample Leaf:  5, Training Error: 0.1131, Test Error: 0.1462\n",
      "Min Samples split:  25, Min Sample Leaf: 10, Training Error: 0.1228, Test Error: 0.1471\n",
      "Min Samples split:  50, Min Sample Leaf:  2, Training Error: 0.1174, Test Error: 0.1448\n",
      "Min Samples split:  50, Min Sample Leaf:  3, Training Error: 0.1197, Test Error: 0.1454\n",
      "Min Samples split:  50, Min Sample Leaf:  5, Training Error: 0.1241, Test Error: 0.1461\n",
      "Min Samples split:  50, Min Sample Leaf: 10, Training Error: 0.1286, Test Error: 0.1466\n",
      "Min Samples split: 100, Min Sample Leaf:  2, Training Error: 0.1289, Test Error: 0.1469\n",
      "Min Samples split: 100, Min Sample Leaf:  3, Training Error: 0.1303, Test Error: 0.1467\n",
      "Min Samples split: 100, Min Sample Leaf:  5, Training Error: 0.1327, Test Error: 0.1472\n",
      "Min Samples split: 100, Min Sample Leaf: 10, Training Error: 0.1349, Test Error: 0.1458\n"
     ]
    }
   ],
   "source": [
    "# first try increasing the threshold in which splits can occur\n",
    "min_samples_split = [5, 10, 25, 50, 100]\n",
    "min_samples_leaf = [2, 3, 5, 10]\n",
    "table = []\n",
    "\n",
    "for split in min_samples_split:\n",
    "    for leaf in min_samples_leaf:\n",
    "        if leaf < split:\n",
    "            training_errors = []\n",
    "            testing_errors = []\n",
    "            for _ in range(10): # sample 10 random forests for each combination of leaves and split thresholds\n",
    "                RFC = RandomForestClassifier(random_state=1234,criterion=\"entropy\", min_samples_split=split, min_samples_leaf=leaf)\n",
    "                RFC.fit(reduced_adults_X, adults_y)\n",
    "                adults_y_hat = RFC.predict(reduced_adults_X)\n",
    "                adults_test_y_hat = RFC.predict (reduced_adults_test_X)\n",
    "                training_errors.append(J01(adults_y_hat, adults_y))\n",
    "                testing_errors.append(J01(adults_test_y_hat, adults_test_y))\n",
    "            row = [split, leaf]\n",
    "            row.append(sum(training_errors)/ len(training_errors))\n",
    "            row.append(sum(testing_errors)/ len(testing_errors))\n",
    "            table.append(row)\n",
    "\n",
    "for split, leaf, training_error, test_error in table:\n",
    "    print(f\"Min Samples split: {split:3}, Min Sample Leaf: {leaf:2}, Training Error: {training_error:.4}, Test Error: {test_error:.4}\")\n",
    "    \n",
    "# slightly lower! below 14.5 error now"
   ]
  },
  {
   "cell_type": "code",
   "execution_count": 192,
   "id": "eb78b48a",
   "metadata": {},
   "outputs": [
    {
     "data": {
      "text/plain": [
       "Text(0.5, 0, 'Max Depth')"
      ]
     },
     "execution_count": 192,
     "metadata": {},
     "output_type": "execute_result"
    },
    {
     "data": {
      "image/png": "[encoded data removed]",
      "text/plain": [
       "<Figure size 640x480 with 1 Axes>"
      ]
     },
     "metadata": {},
     "output_type": "display_data"
    }
   ],
   "source": [
    "# try adjusting max_depth\n",
    "\n",
    "training_error = []\n",
    "test_error = []\n",
    "\n",
    "for i in range(5,25):\n",
    "    RFC = RandomForestClassifier(criterion=\"entropy\",random_state=1234,max_depth=i,min_samples_split=50, min_samples_leaf=2)\n",
    "    RFC.fit(reduced_adults_X, adults_y)\n",
    "\n",
    "    adults_y_hat = RFC.predict(reduced_adults_X)\n",
    "    adults_test_y_hat = RFC.predict (reduced_adults_test_X)\n",
    "    training_error.append(J01(adults_y_hat, adults_y))\n",
    "    test_error.append(J01(adults_test_y_hat, adults_test_y))\n",
    "    \n",
    "plt.plot([i for i in range(5,25)], training_error, color='blue')\n",
    "plt.plot([i for i in range(5,25)], test_error, color=\"red\")\n",
    "plt.legend([\"Training Error\", \"Test Error\"], loc='lower left')\n",
    "plt.xlabel(\"Max Depth\")\n"
   ]
  },
  {
   "cell_type": "code",
   "execution_count": 193,
   "id": "5a986420",
   "metadata": {},
   "outputs": [
    {
     "name": "stdout",
     "output_type": "stream",
     "text": [
      "Depth:  5, error: 0.1593\n",
      "Depth:  6, error: 0.1542\n",
      "Depth:  7, error: 0.1512\n",
      "Depth:  8, error: 0.1506\n",
      "Depth:  9, error: 0.1484\n",
      "Depth: 10, error: 0.1481\n",
      "Depth: 11, error: 0.1474\n",
      "Depth: 12, error: 0.1484\n",
      "Depth: 13, error: 0.1469\n",
      "Depth: 14, error: 0.1471\n",
      "Depth: 15, error: 0.1464\n",
      "Depth: 16, error: 0.1475\n",
      "Depth: 17, error: 0.1457\n",
      "Depth: 18, error: 0.1459\n",
      "Depth: 19, error: 0.1454\n",
      "Depth: 20, error: 0.1459\n",
      "Depth: 21, error: 0.146\n",
      "Depth: 22, error: 0.146\n",
      "Depth: 23, error: 0.1461\n",
      "Depth: 24, error: 0.1456\n"
     ]
    }
   ],
   "source": [
    "for depth, error in zip([i for i in range(5,25)], test_error):\n",
    "    print(f\"Depth: {depth:2}, error: {error:.4}\")\n",
    "\n"
   ]
  },
  {
   "cell_type": "code",
   "execution_count": 151,
   "id": "23110281",
   "metadata": {},
   "outputs": [
    {
     "data": {
      "text/plain": [
       "Text(0.5, 0, 'Max Samples')"
      ]
     },
     "execution_count": 151,
     "metadata": {},
     "output_type": "execute_result"
    },
    {
     "data": {
      "image/png": "[encoded data removed]",
      "text/plain": [
       "<Figure size 640x480 with 1 Axes>"
      ]
     },
     "metadata": {},
     "output_type": "display_data"
    }
   ],
   "source": [
    "# max samples to use for each individual decision tree; default is the same amount as training data but may still be too much for overfitting\n",
    "\n",
    "training_error = []\n",
    "test_error = []\n",
    "\n",
    "for i in range(15000, reduced_adults_X.shape[0], 2500):\n",
    "    RFC = RandomForestClassifier(max_samples=i,criterion=\"entropy\",random_state=1234,max_depth=19,min_samples_split=50, min_samples_leaf=2)\n",
    "    RFC.fit(reduced_adults_X, adults_y)\n",
    "\n",
    "    adults_y_hat = RFC.predict(reduced_adults_X)\n",
    "    adults_test_y_hat = RFC.predict (reduced_adults_test_X)\n",
    "    training_error.append(J01(adults_y_hat, adults_y))\n",
    "    test_error.append(J01(adults_test_y_hat, adults_test_y))\n",
    "    \n",
    "plt.plot([i for i in range(15000, reduced_adults_X.shape[0], 2500)], training_error, color='blue')\n",
    "plt.plot([i for i in range(15000, reduced_adults_X.shape[0], 2500)], test_error, color=\"red\")\n",
    "plt.legend([\"Training Error\", \"Test Error\"], loc='lower left')\n",
    "plt.xlabel(\"Max Samples\")\n"
   ]
  },
  {
   "cell_type": "code",
   "execution_count": 152,
   "id": "4a3fe4ac",
   "metadata": {},
   "outputs": [
    {
     "name": "stdout",
     "output_type": "stream",
     "text": [
      "Max Samples: 15000, Test error: 0.1471\n",
      "Max Samples: 17500, Test error: 0.1476\n",
      "Max Samples: 20000, Test error: 0.1461\n",
      "Max Samples: 22500, Test error: 0.1461\n",
      "Max Samples: 25000, Test error: 0.1465\n",
      "Max Samples: 27500, Test error: 0.1449\n",
      "Max Samples: 30000, Test error: 0.1455\n",
      "Max Samples: 32500, Test error: 0.145\n"
     ]
    }
   ],
   "source": [
    "for max_samples, error in zip([i for i in range(15000, reduced_adults_X.shape[0], 2500)], test_error):\n",
    "    print(f\"Max Samples: {max_samples:2}, Test error: {error:.4}\")\n"
   ]
  },
  {
   "cell_type": "markdown",
   "id": "301e2fcf",
   "metadata": {},
   "source": [
    "## Best Classifier Thus Far"
   ]
  },
  {
   "cell_type": "code",
   "execution_count": 194,
   "id": "e7e66e6e",
   "metadata": {},
   "outputs": [
    {
     "name": "stdout",
     "output_type": "stream",
     "text": [
      "Training Error: 0.11744111053100337\n",
      "Testing Error: 0.14476997727412322\n"
     ]
    }
   ],
   "source": [
    "RFC = RandomForestClassifier(criterion=\"entropy\",random_state=1234,min_samples_split=50, min_samples_leaf=2)\n",
    "RFC.fit(reduced_adults_X, adults_y)\n",
    "adults_y_hat = RFC.predict(reduced_adults_X)\n",
    "adults_test_y_hat = RFC.predict (reduced_adults_test_X)\n",
    "print(\"Training Error:\",J01(adults_y_hat, adults_y))\n",
    "print(\"Testing Error:\", J01(adults_test_y_hat, adults_test_y))\n",
    "\n"
   ]
  },
  {
   "cell_type": "code",
   "execution_count": null,
   "id": "f579b56f",
   "metadata": {},
   "outputs": [],
   "source": []
  }
 ],
 "metadata": {
  "kernelspec": {
   "display_name": "Python 3 (ipykernel)",
   "language": "python",
   "name": "python3"
  },
  "language_info": {
   "codemirror_mode": {
    "name": "ipython",
    "version": 3
   },
   "file_extension": ".py",
   "mimetype": "text/x-python",
   "name": "python",
   "nbconvert_exporter": "python",
   "pygments_lexer": "ipython3",
   "version": "3.10.8"
  }
 },
 "nbformat": 4,
 "nbformat_minor": 5
}
